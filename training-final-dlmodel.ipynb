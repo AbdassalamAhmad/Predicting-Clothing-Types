{
 "cells": [
  {
   "cell_type": "code",
   "execution_count": 1,
   "id": "2ebed091",
   "metadata": {
    "_cell_guid": "b1076dfc-b9ad-4769-8c92-a6c4dae69d19",
    "_uuid": "8f2839f25d086af736a60e9eeb907d3b93b6e0e5",
    "execution": {
     "iopub.execute_input": "2021-12-25T19:47:13.875317Z",
     "iopub.status.busy": "2021-12-25T19:47:13.873808Z",
     "iopub.status.idle": "2021-12-25T19:47:18.875255Z",
     "shell.execute_reply": "2021-12-25T19:47:18.874397Z",
     "shell.execute_reply.started": "2021-12-25T18:48:04.191003Z"
    },
    "papermill": {
     "duration": 5.019532,
     "end_time": "2021-12-25T19:47:18.875427",
     "exception": false,
     "start_time": "2021-12-25T19:47:13.855895",
     "status": "completed"
    },
    "tags": []
   },
   "outputs": [],
   "source": [
    "import os # sd\n",
    "import numpy as np\n",
    "import matplotlib.pyplot as plt\n",
    "import tensorflow as tf\n",
    "from tensorflow import keras\n",
    "from tensorflow.keras.preprocessing.image import load_img\n",
    "\n",
    "from tensorflow.keras.applications.xception import Xception\n",
    "from tensorflow.keras.applications.xception import preprocess_input\n",
    "from tensorflow.keras.applications.xception import decode_predictions\n",
    "from tensorflow.keras.preprocessing.image import ImageDataGenerator\n",
    "\n",
    "%matplotlib inline"
   ]
  },
  {
   "cell_type": "markdown",
   "id": "7a33af2e",
   "metadata": {
    "papermill": {
     "duration": 0.013503,
     "end_time": "2021-12-25T19:47:18.902685",
     "exception": false,
     "start_time": "2021-12-25T19:47:18.889182",
     "status": "completed"
    },
    "tags": []
   },
   "source": [
    "# 1. Reading the Dataset"
   ]
  },
  {
   "cell_type": "code",
   "execution_count": 2,
   "id": "2189116e",
   "metadata": {
    "execution": {
     "iopub.execute_input": "2021-12-25T19:47:18.932856Z",
     "iopub.status.busy": "2021-12-25T19:47:18.932207Z",
     "iopub.status.idle": "2021-12-25T19:47:19.500464Z",
     "shell.execute_reply": "2021-12-25T19:47:19.501070Z",
     "shell.execute_reply.started": "2021-12-25T18:48:04.204645Z"
    },
    "papermill": {
     "duration": 0.586412,
     "end_time": "2021-12-25T19:47:19.501260",
     "exception": false,
     "start_time": "2021-12-25T19:47:18.914848",
     "status": "completed"
    },
    "tags": []
   },
   "outputs": [
    {
     "name": "stdout",
     "output_type": "stream",
     "text": [
      "Found 3068 images belonging to 10 classes.\n",
      "Found 341 images belonging to 10 classes.\n"
     ]
    }
   ],
   "source": [
    "input_size = 299\n",
    "\n",
    "train_gen = ImageDataGenerator(\n",
    "    preprocessing_function=preprocess_input,\n",
    "    shear_range=10,\n",
    "    zoom_range=0.1,\n",
    "    horizontal_flip=True#it doesnt make much sense but somehow it performed better.\n",
    ")\n",
    "\n",
    "train_ds = train_gen.flow_from_directory(\n",
    "    '/kaggle/input/clothingdatasetsmall/train',\n",
    "    target_size=(input_size, input_size),\n",
    "    batch_size=32\n",
    ")\n",
    "\n",
    "\n",
    "val_gen = ImageDataGenerator(preprocessing_function=preprocess_input)\n",
    "\n",
    "val_ds = train_gen.flow_from_directory(\n",
    "    '/kaggle/input/clothingdatasetsmall/validation',\n",
    "    target_size=(input_size, input_size),\n",
    "    batch_size=32,\n",
    "    shuffle=False\n",
    ")"
   ]
  },
  {
   "cell_type": "markdown",
   "id": "5a1c586e",
   "metadata": {
    "papermill": {
     "duration": 0.012191,
     "end_time": "2021-12-25T19:47:19.527180",
     "exception": false,
     "start_time": "2021-12-25T19:47:19.514989",
     "status": "completed"
    },
    "tags": []
   },
   "source": [
    "# 2. Making the Model"
   ]
  },
  {
   "cell_type": "code",
   "execution_count": 3,
   "id": "7996fa55",
   "metadata": {
    "execution": {
     "iopub.execute_input": "2021-12-25T19:47:19.560037Z",
     "iopub.status.busy": "2021-12-25T19:47:19.559299Z",
     "iopub.status.idle": "2021-12-25T19:47:19.561311Z",
     "shell.execute_reply": "2021-12-25T19:47:19.561692Z",
     "shell.execute_reply.started": "2021-12-25T18:48:04.543832Z"
    },
    "papermill": {
     "duration": 0.022196,
     "end_time": "2021-12-25T19:47:19.561813",
     "exception": false,
     "start_time": "2021-12-25T19:47:19.539617",
     "status": "completed"
    },
    "tags": []
   },
   "outputs": [],
   "source": [
    "def make_model(input_size=150, learning_rate=0.01, size_inner=100,\n",
    "               droprate=0.2):\n",
    "\n",
    "    base_model = Xception(\n",
    "        weights='imagenet',\n",
    "        include_top=False,\n",
    "        input_shape=(input_size, input_size, 3)\n",
    "    )\n",
    "\n",
    "    base_model.trainable = False\n",
    "\n",
    "    #########################################\n",
    "\n",
    "    inputs = keras.Input(shape=(input_size, input_size, 3))\n",
    "    base = base_model(inputs, training=False)\n",
    "    vectors = keras.layers.GlobalAveragePooling2D()(base)\n",
    "    \n",
    "    inner = keras.layers.Dense(size_inner, activation='relu')(vectors)\n",
    "    drop = keras.layers.Dropout(droprate)(inner)\n",
    "    \n",
    "    outputs = keras.layers.Dense(10)(drop)\n",
    "    \n",
    "    model = keras.Model(inputs, outputs)\n",
    "    \n",
    "    #########################################\n",
    "\n",
    "    optimizer = keras.optimizers.Adam(learning_rate=learning_rate)\n",
    "    loss = keras.losses.CategoricalCrossentropy(from_logits=True)\n",
    "\n",
    "    model.compile(\n",
    "        optimizer=optimizer,\n",
    "        loss=loss,\n",
    "        metrics=['accuracy']\n",
    "    )\n",
    "    \n",
    "    return model"
   ]
  },
  {
   "cell_type": "code",
   "execution_count": 4,
   "id": "974a032e",
   "metadata": {
    "execution": {
     "iopub.execute_input": "2021-12-25T19:47:19.590875Z",
     "iopub.status.busy": "2021-12-25T19:47:19.590141Z",
     "iopub.status.idle": "2021-12-25T19:47:19.592777Z",
     "shell.execute_reply": "2021-12-25T19:47:19.592262Z",
     "shell.execute_reply.started": "2021-12-25T18:48:04.553618Z"
    },
    "papermill": {
     "duration": 0.018848,
     "end_time": "2021-12-25T19:47:19.592888",
     "exception": false,
     "start_time": "2021-12-25T19:47:19.574040",
     "status": "completed"
    },
    "tags": []
   },
   "outputs": [],
   "source": [
    "#saving the best model\n",
    "checkpoint = keras.callbacks.ModelCheckpoint(\n",
    "    'xception_v5_1_{epoch:02d}_{val_accuracy:.3f}.h5',\n",
    "    save_best_only=True,\n",
    "    monitor='val_accuracy',\n",
    "    mode='max'\n",
    ")"
   ]
  },
  {
   "cell_type": "code",
   "execution_count": 5,
   "id": "974d49c5",
   "metadata": {
    "execution": {
     "iopub.execute_input": "2021-12-25T19:47:19.624374Z",
     "iopub.status.busy": "2021-12-25T19:47:19.623862Z",
     "iopub.status.idle": "2021-12-25T20:00:23.907509Z",
     "shell.execute_reply": "2021-12-25T20:00:23.907058Z",
     "shell.execute_reply.started": "2021-12-25T18:48:04.565784Z"
    },
    "papermill": {
     "duration": 784.302737,
     "end_time": "2021-12-25T20:00:23.907669",
     "exception": false,
     "start_time": "2021-12-25T19:47:19.604932",
     "status": "completed"
    },
    "tags": []
   },
   "outputs": [
    {
     "name": "stderr",
     "output_type": "stream",
     "text": [
      "2021-12-25 19:47:19.702389: I tensorflow/stream_executor/cuda/cuda_gpu_executor.cc:937] successful NUMA node read from SysFS had negative value (-1), but there must be at least one NUMA node, so returning NUMA node zero\n",
      "2021-12-25 19:47:19.792147: I tensorflow/stream_executor/cuda/cuda_gpu_executor.cc:937] successful NUMA node read from SysFS had negative value (-1), but there must be at least one NUMA node, so returning NUMA node zero\n",
      "2021-12-25 19:47:19.792975: I tensorflow/stream_executor/cuda/cuda_gpu_executor.cc:937] successful NUMA node read from SysFS had negative value (-1), but there must be at least one NUMA node, so returning NUMA node zero\n",
      "2021-12-25 19:47:19.794096: I tensorflow/core/platform/cpu_feature_guard.cc:142] This TensorFlow binary is optimized with oneAPI Deep Neural Network Library (oneDNN) to use the following CPU instructions in performance-critical operations:  AVX2 AVX512F FMA\n",
      "To enable them in other operations, rebuild TensorFlow with the appropriate compiler flags.\n",
      "2021-12-25 19:47:19.795067: I tensorflow/stream_executor/cuda/cuda_gpu_executor.cc:937] successful NUMA node read from SysFS had negative value (-1), but there must be at least one NUMA node, so returning NUMA node zero\n",
      "2021-12-25 19:47:19.795778: I tensorflow/stream_executor/cuda/cuda_gpu_executor.cc:937] successful NUMA node read from SysFS had negative value (-1), but there must be at least one NUMA node, so returning NUMA node zero\n",
      "2021-12-25 19:47:19.796392: I tensorflow/stream_executor/cuda/cuda_gpu_executor.cc:937] successful NUMA node read from SysFS had negative value (-1), but there must be at least one NUMA node, so returning NUMA node zero\n",
      "2021-12-25 19:47:21.486997: I tensorflow/stream_executor/cuda/cuda_gpu_executor.cc:937] successful NUMA node read from SysFS had negative value (-1), but there must be at least one NUMA node, so returning NUMA node zero\n",
      "2021-12-25 19:47:21.487774: I tensorflow/stream_executor/cuda/cuda_gpu_executor.cc:937] successful NUMA node read from SysFS had negative value (-1), but there must be at least one NUMA node, so returning NUMA node zero\n",
      "2021-12-25 19:47:21.488392: I tensorflow/stream_executor/cuda/cuda_gpu_executor.cc:937] successful NUMA node read from SysFS had negative value (-1), but there must be at least one NUMA node, so returning NUMA node zero\n",
      "2021-12-25 19:47:21.488986: I tensorflow/core/common_runtime/gpu/gpu_device.cc:1510] Created device /job:localhost/replica:0/task:0/device:GPU:0 with 15403 MB memory:  -> device: 0, name: Tesla P100-PCIE-16GB, pci bus id: 0000:00:04.0, compute capability: 6.0\n"
     ]
    },
    {
     "name": "stdout",
     "output_type": "stream",
     "text": [
      "Downloading data from https://storage.googleapis.com/tensorflow/keras-applications/xception/xception_weights_tf_dim_ordering_tf_kernels_notop.h5\n",
      "83689472/83683744 [==============================] - 1s 0us/step\n",
      "83697664/83683744 [==============================] - 1s 0us/step\n"
     ]
    },
    {
     "name": "stderr",
     "output_type": "stream",
     "text": [
      "2021-12-25 19:47:24.793510: I tensorflow/compiler/mlir/mlir_graph_optimization_pass.cc:185] None of the MLIR Optimization Passes are enabled (registered 2)\n"
     ]
    },
    {
     "name": "stdout",
     "output_type": "stream",
     "text": [
      "Epoch 1/10\n"
     ]
    },
    {
     "name": "stderr",
     "output_type": "stream",
     "text": [
      "2021-12-25 19:47:28.904917: I tensorflow/stream_executor/cuda/cuda_dnn.cc:369] Loaded cuDNN version 8005\n"
     ]
    },
    {
     "name": "stdout",
     "output_type": "stream",
     "text": [
      "96/96 [==============================] - 93s 883ms/step - loss: 1.0380 - accuracy: 0.6737 - val_loss: 0.5173 - val_accuracy: 0.8622\n"
     ]
    },
    {
     "name": "stderr",
     "output_type": "stream",
     "text": [
      "/opt/conda/lib/python3.7/site-packages/keras/utils/generic_utils.py:497: CustomMaskWarning: Custom mask layers require a config and must override get_config. When loading, the custom mask layer must be passed to the custom_objects argument.\n",
      "  category=CustomMaskWarning)\n"
     ]
    },
    {
     "name": "stdout",
     "output_type": "stream",
     "text": [
      "Epoch 2/10\n",
      "96/96 [==============================] - 75s 784ms/step - loss: 0.5197 - accuracy: 0.8295 - val_loss: 0.4193 - val_accuracy: 0.8534\n",
      "Epoch 3/10\n",
      "96/96 [==============================] - 76s 787ms/step - loss: 0.4505 - accuracy: 0.8458 - val_loss: 0.3992 - val_accuracy: 0.8710\n",
      "Epoch 4/10\n",
      "96/96 [==============================] - 75s 780ms/step - loss: 0.3889 - accuracy: 0.8657 - val_loss: 0.3675 - val_accuracy: 0.8739\n",
      "Epoch 5/10\n",
      "96/96 [==============================] - 75s 785ms/step - loss: 0.3551 - accuracy: 0.8791 - val_loss: 0.3598 - val_accuracy: 0.8739\n",
      "Epoch 6/10\n",
      "96/96 [==============================] - 75s 782ms/step - loss: 0.3228 - accuracy: 0.8810 - val_loss: 0.3641 - val_accuracy: 0.8886\n",
      "Epoch 7/10\n",
      "96/96 [==============================] - 76s 790ms/step - loss: 0.2988 - accuracy: 0.8960 - val_loss: 0.3846 - val_accuracy: 0.8563\n",
      "Epoch 8/10\n",
      "96/96 [==============================] - 75s 780ms/step - loss: 0.2755 - accuracy: 0.9094 - val_loss: 0.3827 - val_accuracy: 0.8827\n",
      "Epoch 9/10\n",
      "96/96 [==============================] - 75s 786ms/step - loss: 0.2609 - accuracy: 0.9143 - val_loss: 0.3495 - val_accuracy: 0.8710\n",
      "Epoch 10/10\n",
      "96/96 [==============================] - 75s 785ms/step - loss: 0.2502 - accuracy: 0.9120 - val_loss: 0.3291 - val_accuracy: 0.8739\n"
     ]
    }
   ],
   "source": [
    "learning_rate = 0.0005\n",
    "size = 100\n",
    "droprate = 0.2\n",
    "input_size = 299\n",
    "\n",
    "model = make_model(\n",
    "    input_size=input_size,\n",
    "    learning_rate=learning_rate,\n",
    "    size_inner=size,\n",
    "    droprate=droprate\n",
    ")\n",
    "\n",
    "history = model.fit(train_ds, epochs=10, validation_data=val_ds,\n",
    "                   callbacks=[checkpoint])"
   ]
  },
  {
   "cell_type": "code",
   "execution_count": 6,
   "id": "a03d497c",
   "metadata": {
    "execution": {
     "iopub.execute_input": "2021-12-25T20:00:24.458374Z",
     "iopub.status.busy": "2021-12-25T20:00:24.457376Z",
     "iopub.status.idle": "2021-12-25T20:00:24.675685Z",
     "shell.execute_reply": "2021-12-25T20:00:24.676181Z",
     "shell.execute_reply.started": "2021-12-25T19:00:38.748723Z"
    },
    "papermill": {
     "duration": 0.496958,
     "end_time": "2021-12-25T20:00:24.676321",
     "exception": false,
     "start_time": "2021-12-25T20:00:24.179363",
     "status": "completed"
    },
    "tags": []
   },
   "outputs": [
    {
     "data": {
      "text/plain": [
       "<matplotlib.legend.Legend at 0x7efe7867b190>"
      ]
     },
     "execution_count": 6,
     "metadata": {},
     "output_type": "execute_result"
    },
    {
     "data": {
      "image/png": "[encoded data removed]",
      "text/plain": [
       "<Figure size 432x288 with 1 Axes>"
      ]
     },
     "metadata": {
      "needs_background": "light"
     },
     "output_type": "display_data"
    }
   ],
   "source": [
    "hist = history.history\n",
    "plt.plot(hist['val_accuracy'], label='val')\n",
    "plt.plot(hist['accuracy'], label='train')\n",
    "\n",
    "plt.legend()"
   ]
  },
  {
   "cell_type": "markdown",
   "id": "2ae1ed13",
   "metadata": {
    "papermill": {
     "duration": 0.266667,
     "end_time": "2021-12-25T20:00:25.211751",
     "exception": false,
     "start_time": "2021-12-25T20:00:24.945084",
     "status": "completed"
    },
    "tags": []
   },
   "source": [
    "# 3. Loading Test data & Deep learning model"
   ]
  },
  {
   "cell_type": "code",
   "execution_count": 7,
   "id": "4fc95f05",
   "metadata": {
    "execution": {
     "iopub.execute_input": "2021-12-25T20:00:25.756099Z",
     "iopub.status.busy": "2021-12-25T20:00:25.754556Z",
     "iopub.status.idle": "2021-12-25T20:00:25.756710Z",
     "shell.execute_reply": "2021-12-25T20:00:25.757107Z",
     "shell.execute_reply.started": "2021-12-25T19:00:38.956569Z"
    },
    "papermill": {
     "duration": 0.27719,
     "end_time": "2021-12-25T20:00:25.757236",
     "exception": false,
     "start_time": "2021-12-25T20:00:25.480046",
     "status": "completed"
    },
    "tags": []
   },
   "outputs": [],
   "source": [
    "import tensorflow as tf\n",
    "from tensorflow import keras\n",
    "import numpy as np\n",
    "from tensorflow.keras.preprocessing.image import ImageDataGenerator\n",
    "from tensorflow.keras.preprocessing.image import load_img\n",
    "from tensorflow.keras.applications.xception import preprocess_input"
   ]
  },
  {
   "cell_type": "code",
   "execution_count": 8,
   "id": "b289eeed",
   "metadata": {
    "execution": {
     "iopub.execute_input": "2021-12-25T20:00:26.301494Z",
     "iopub.status.busy": "2021-12-25T20:00:26.299013Z",
     "iopub.status.idle": "2021-12-25T20:00:26.676630Z",
     "shell.execute_reply": "2021-12-25T20:00:26.675838Z",
     "shell.execute_reply.started": "2021-12-25T19:01:13.038411Z"
    },
    "papermill": {
     "duration": 0.647632,
     "end_time": "2021-12-25T20:00:26.676899",
     "exception": true,
     "start_time": "2021-12-25T20:00:26.029267",
     "status": "failed"
    },
    "tags": []
   },
   "outputs": [
    {
     "name": "stdout",
     "output_type": "stream",
     "text": [
      "Found 372 images belonging to 10 classes.\n"
     ]
    },
    {
     "ename": "OSError",
     "evalue": "SavedModel file does not exist at: ./input/tryingthis/xception_v5_1_10_0.889.h5/{saved_model.pbtxt|saved_model.pb}",
     "output_type": "error",
     "traceback": [
      "\u001b[0;31m---------------------------------------------------------------------------\u001b[0m",
      "\u001b[0;31mOSError\u001b[0m                                   Traceback (most recent call last)",
      "\u001b[0;32m/tmp/ipykernel_25/185294195.py\u001b[0m in \u001b[0;36m<module>\u001b[0;34m\u001b[0m\n\u001b[1;32m      7\u001b[0m     \u001b[0mshuffle\u001b[0m\u001b[0;34m=\u001b[0m\u001b[0;32mFalse\u001b[0m\u001b[0;34m\u001b[0m\u001b[0;34m\u001b[0m\u001b[0m\n\u001b[1;32m      8\u001b[0m )\n\u001b[0;32m----> 9\u001b[0;31m \u001b[0mmodel\u001b[0m \u001b[0;34m=\u001b[0m \u001b[0mkeras\u001b[0m\u001b[0;34m.\u001b[0m\u001b[0mmodels\u001b[0m\u001b[0;34m.\u001b[0m\u001b[0mload_model\u001b[0m\u001b[0;34m(\u001b[0m\u001b[0;34m'./input/tryingthis/xception_v5_1_10_0.889.h5'\u001b[0m\u001b[0;34m)\u001b[0m\u001b[0;34m\u001b[0m\u001b[0;34m\u001b[0m\u001b[0m\n\u001b[0m",
      "\u001b[0;32m/opt/conda/lib/python3.7/site-packages/keras/saving/save.py\u001b[0m in \u001b[0;36mload_model\u001b[0;34m(filepath, custom_objects, compile, options)\u001b[0m\n\u001b[1;32m    203\u001b[0m         \u001b[0mfilepath\u001b[0m \u001b[0;34m=\u001b[0m \u001b[0mpath_to_string\u001b[0m\u001b[0;34m(\u001b[0m\u001b[0mfilepath\u001b[0m\u001b[0;34m)\u001b[0m\u001b[0;34m\u001b[0m\u001b[0;34m\u001b[0m\u001b[0m\n\u001b[1;32m    204\u001b[0m         \u001b[0;32mif\u001b[0m \u001b[0misinstance\u001b[0m\u001b[0;34m(\u001b[0m\u001b[0mfilepath\u001b[0m\u001b[0;34m,\u001b[0m \u001b[0mstr\u001b[0m\u001b[0;34m)\u001b[0m\u001b[0;34m:\u001b[0m\u001b[0;34m\u001b[0m\u001b[0;34m\u001b[0m\u001b[0m\n\u001b[0;32m--> 205\u001b[0;31m           \u001b[0;32mreturn\u001b[0m \u001b[0msaved_model_load\u001b[0m\u001b[0;34m.\u001b[0m\u001b[0mload\u001b[0m\u001b[0;34m(\u001b[0m\u001b[0mfilepath\u001b[0m\u001b[0;34m,\u001b[0m \u001b[0mcompile\u001b[0m\u001b[0;34m,\u001b[0m \u001b[0moptions\u001b[0m\u001b[0;34m)\u001b[0m\u001b[0;34m\u001b[0m\u001b[0;34m\u001b[0m\u001b[0m\n\u001b[0m\u001b[1;32m    206\u001b[0m \u001b[0;34m\u001b[0m\u001b[0m\n\u001b[1;32m    207\u001b[0m   raise IOError(\n",
      "\u001b[0;32m/opt/conda/lib/python3.7/site-packages/keras/saving/saved_model/load.py\u001b[0m in \u001b[0;36mload\u001b[0;34m(path, compile, options)\u001b[0m\n\u001b[1;32m    106\u001b[0m   \u001b[0;31m# Look for metadata file or parse the SavedModel\u001b[0m\u001b[0;34m\u001b[0m\u001b[0;34m\u001b[0m\u001b[0;34m\u001b[0m\u001b[0m\n\u001b[1;32m    107\u001b[0m   \u001b[0mmetadata\u001b[0m \u001b[0;34m=\u001b[0m \u001b[0msaved_metadata_pb2\u001b[0m\u001b[0;34m.\u001b[0m\u001b[0mSavedMetadata\u001b[0m\u001b[0;34m(\u001b[0m\u001b[0;34m)\u001b[0m\u001b[0;34m\u001b[0m\u001b[0;34m\u001b[0m\u001b[0m\n\u001b[0;32m--> 108\u001b[0;31m   \u001b[0mmeta_graph_def\u001b[0m \u001b[0;34m=\u001b[0m \u001b[0mtf\u001b[0m\u001b[0;34m.\u001b[0m\u001b[0m__internal__\u001b[0m\u001b[0;34m.\u001b[0m\u001b[0msaved_model\u001b[0m\u001b[0;34m.\u001b[0m\u001b[0mparse_saved_model\u001b[0m\u001b[0;34m(\u001b[0m\u001b[0mpath\u001b[0m\u001b[0;34m)\u001b[0m\u001b[0;34m.\u001b[0m\u001b[0mmeta_graphs\u001b[0m\u001b[0;34m[\u001b[0m\u001b[0;36m0\u001b[0m\u001b[0;34m]\u001b[0m\u001b[0;34m\u001b[0m\u001b[0;34m\u001b[0m\u001b[0m\n\u001b[0m\u001b[1;32m    109\u001b[0m   \u001b[0mobject_graph_def\u001b[0m \u001b[0;34m=\u001b[0m \u001b[0mmeta_graph_def\u001b[0m\u001b[0;34m.\u001b[0m\u001b[0mobject_graph_def\u001b[0m\u001b[0;34m\u001b[0m\u001b[0;34m\u001b[0m\u001b[0m\n\u001b[1;32m    110\u001b[0m   \u001b[0mpath_to_metadata_pb\u001b[0m \u001b[0;34m=\u001b[0m \u001b[0mos\u001b[0m\u001b[0;34m.\u001b[0m\u001b[0mpath\u001b[0m\u001b[0;34m.\u001b[0m\u001b[0mjoin\u001b[0m\u001b[0;34m(\u001b[0m\u001b[0mpath\u001b[0m\u001b[0;34m,\u001b[0m \u001b[0mconstants\u001b[0m\u001b[0;34m.\u001b[0m\u001b[0mSAVED_METADATA_PATH\u001b[0m\u001b[0;34m)\u001b[0m\u001b[0;34m\u001b[0m\u001b[0;34m\u001b[0m\u001b[0m\n",
      "\u001b[0;32m/opt/conda/lib/python3.7/site-packages/tensorflow/python/saved_model/loader_impl.py\u001b[0m in \u001b[0;36mparse_saved_model\u001b[0;34m(export_dir)\u001b[0m\n\u001b[1;32m    119\u001b[0m         \u001b[0;34m\"SavedModel file does not exist at: %s%s{%s|%s}\"\u001b[0m \u001b[0;34m%\u001b[0m\u001b[0;34m\u001b[0m\u001b[0;34m\u001b[0m\u001b[0m\n\u001b[1;32m    120\u001b[0m         (export_dir, os.path.sep, constants.SAVED_MODEL_FILENAME_PBTXT,\n\u001b[0;32m--> 121\u001b[0;31m          constants.SAVED_MODEL_FILENAME_PB))\n\u001b[0m\u001b[1;32m    122\u001b[0m \u001b[0;34m\u001b[0m\u001b[0m\n\u001b[1;32m    123\u001b[0m \u001b[0;34m\u001b[0m\u001b[0m\n",
      "\u001b[0;31mOSError\u001b[0m: SavedModel file does not exist at: ./input/tryingthis/xception_v5_1_10_0.889.h5/{saved_model.pbtxt|saved_model.pb}"
     ]
    }
   ],
   "source": [
    "test_gen = ImageDataGenerator(preprocessing_function=preprocess_input)\n",
    "\n",
    "test_ds = test_gen.flow_from_directory(\n",
    "    '/kaggle/input/clothingdatasetsmall/test',\n",
    "    target_size=(299, 299),\n",
    "    batch_size=32,\n",
    "    shuffle=False\n",
    ")\n",
    "model = keras.models.load_model('./input/tryingthis/xception_v5_1_10_0.889.h5')"
   ]
  },
  {
   "cell_type": "markdown",
   "id": "c269f572",
   "metadata": {
    "papermill": {
     "duration": null,
     "end_time": null,
     "exception": null,
     "start_time": null,
     "status": "pending"
    },
    "tags": []
   },
   "source": [
    "# 4. Evaluating the model"
   ]
  },
  {
   "cell_type": "code",
   "execution_count": null,
   "id": "da0bb450",
   "metadata": {
    "execution": {
     "iopub.execute_input": "2021-12-25T19:01:14.479321Z",
     "iopub.status.busy": "2021-12-25T19:01:14.478777Z",
     "iopub.status.idle": "2021-12-25T19:01:17.980700Z",
     "shell.execute_reply": "2021-12-25T19:01:17.980004Z",
     "shell.execute_reply.started": "2021-12-25T19:01:14.479279Z"
    },
    "papermill": {
     "duration": null,
     "end_time": null,
     "exception": null,
     "start_time": null,
     "status": "pending"
    },
    "tags": []
   },
   "outputs": [],
   "source": [
    "model.evaluate(test_ds)"
   ]
  },
  {
   "cell_type": "markdown",
   "id": "9eb9910f",
   "metadata": {
    "papermill": {
     "duration": null,
     "end_time": null,
     "exception": null,
     "start_time": null,
     "status": "pending"
    },
    "tags": []
   },
   "source": [
    "## Testing the model on random picture"
   ]
  },
  {
   "cell_type": "code",
   "execution_count": null,
   "id": "1f58bdcb",
   "metadata": {
    "execution": {
     "iopub.execute_input": "2021-12-25T19:01:17.982384Z",
     "iopub.status.busy": "2021-12-25T19:01:17.982115Z",
     "iopub.status.idle": "2021-12-25T19:01:18.589601Z",
     "shell.execute_reply": "2021-12-25T19:01:18.588837Z",
     "shell.execute_reply.started": "2021-12-25T19:01:17.982347Z"
    },
    "papermill": {
     "duration": null,
     "end_time": null,
     "exception": null,
     "start_time": null,
     "status": "pending"
    },
    "tags": []
   },
   "outputs": [],
   "source": [
    "path = '../input/clothingdatasetsmall/test/shorts/06248e28-9e26-4036-8a8f-40cc605c83fb.jpg'\n",
    "\n",
    "img = load_img(path, target_size=(299, 299))\n",
    "x = np.array(img)\n",
    "X = np.array([x])\n",
    "X.shape\n",
    "X = preprocess_input(X)\n",
    "pred = model.predict(X)\n"
   ]
  },
  {
   "cell_type": "code",
   "execution_count": null,
   "id": "6a8417f3",
   "metadata": {
    "execution": {
     "iopub.execute_input": "2021-12-25T19:01:18.591904Z",
     "iopub.status.busy": "2021-12-25T19:01:18.591645Z",
     "iopub.status.idle": "2021-12-25T19:01:18.597910Z",
     "shell.execute_reply": "2021-12-25T19:01:18.597230Z",
     "shell.execute_reply.started": "2021-12-25T19:01:18.591870Z"
    },
    "papermill": {
     "duration": null,
     "end_time": null,
     "exception": null,
     "start_time": null,
     "status": "pending"
    },
    "tags": []
   },
   "outputs": [],
   "source": [
    "classes = [\n",
    "    'dress',\n",
    "    'hat',\n",
    "    'longsleeve',\n",
    "    'outwear',\n",
    "    'pants',\n",
    "    'shirt',\n",
    "    'shoes',\n",
    "    'shorts',\n",
    "    'skirt',\n",
    "    't-shirt'\n",
    "]\n",
    "\n",
    "result = dict(zip(classes, pred[0]))\n",
    "max_key = max(result, key=result.get)\n",
    "\n",
    "print (\"your picture contains %s \" %(max_key))"
   ]
  },
  {
   "cell_type": "code",
   "execution_count": null,
   "id": "946eb66b",
   "metadata": {
    "execution": {
     "iopub.execute_input": "2021-12-25T19:10:46.832667Z",
     "iopub.status.busy": "2021-12-25T19:10:46.832252Z",
     "iopub.status.idle": "2021-12-25T19:10:46.840907Z",
     "shell.execute_reply": "2021-12-25T19:10:46.840257Z",
     "shell.execute_reply.started": "2021-12-25T19:10:46.832633Z"
    },
    "papermill": {
     "duration": null,
     "end_time": null,
     "exception": null,
     "start_time": null,
     "status": "pending"
    },
    "tags": []
   },
   "outputs": [],
   "source": [
    "result"
   ]
  },
  {
   "cell_type": "code",
   "execution_count": null,
   "id": "068395db",
   "metadata": {
    "execution": {
     "iopub.execute_input": "2021-12-25T19:10:51.869913Z",
     "iopub.status.busy": "2021-12-25T19:10:51.869382Z",
     "iopub.status.idle": "2021-12-25T19:10:51.875160Z",
     "shell.execute_reply": "2021-12-25T19:10:51.874473Z",
     "shell.execute_reply.started": "2021-12-25T19:10:51.869874Z"
    },
    "papermill": {
     "duration": null,
     "end_time": null,
     "exception": null,
     "start_time": null,
     "status": "pending"
    },
    "tags": []
   },
   "outputs": [],
   "source": [
    "result"
   ]
  },
  {
   "cell_type": "code",
   "execution_count": null,
   "id": "fcb4bb47",
   "metadata": {
    "papermill": {
     "duration": null,
     "end_time": null,
     "exception": null,
     "start_time": null,
     "status": "pending"
    },
    "tags": []
   },
   "outputs": [],
   "source": []
  }
 ],
 "metadata": {
  "kernelspec": {
   "display_name": "Python 3",
   "language": "python",
   "name": "python3"
  },
  "language_info": {
   "codemirror_mode": {
    "name": "ipython",
    "version": 3
   },
   "file_extension": ".py",
   "mimetype": "text/x-python",
   "name": "python",
   "nbconvert_exporter": "python",
   "pygments_lexer": "ipython3",
   "version": "3.7.12"
  },
  "papermill": {
   "default_parameters": {},
   "duration": 804.636122,
   "end_time": "2021-12-25T20:00:30.456251",
   "environment_variables": {},
   "exception": true,
   "input_path": "__notebook__.ipynb",
   "output_path": "__notebook__.ipynb",
   "parameters": {},
   "start_time": "2021-12-25T19:47:05.820129",
   "version": "2.3.3"
  }
 },
 "nbformat": 4,
 "nbformat_minor": 5
}
